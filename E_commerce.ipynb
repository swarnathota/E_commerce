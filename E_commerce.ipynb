{
 "cells": [
  {
   "cell_type": "code",
   "execution_count": 1,
   "metadata": {},
   "outputs": [],
   "source": [
    "import numpy as np\n",
    "import pandas as pd \n",
    "import statsmodels\n",
    "import matplotlib.pyplot as plt\n",
    "import seaborn as sns\n",
    "import time\n",
    "import math\n",
    "import warnings; warnings.simplefilter('ignore')"
   ]
  },
  {
   "cell_type": "code",
   "execution_count": 2,
   "metadata": {},
   "outputs": [
    {
     "data": {
      "text/plain": [
       "(10500, 5)"
      ]
     },
     "execution_count": 2,
     "metadata": {},
     "output_type": "execute_result"
    }
   ],
   "source": [
    "train = pd.read_csv(\"train_8wry4cB.csv\")\n",
    "train.shape"
   ]
  },
  {
   "cell_type": "markdown",
   "metadata": {},
   "source": [
    "## EDA "
   ]
  },
  {
   "cell_type": "code",
   "execution_count": 3,
   "metadata": {},
   "outputs": [],
   "source": [
    "#Function to manipulate timestamp column\n",
    "def time_to_minutes(time_str): \n",
    "    '''function to convert time to min'''\n",
    "    try: \n",
    "        t = time_str.split(\"days\")[1].strip()\n",
    "        hours, minutes, seconds = t.split(':')  \n",
    "    except ValueError:  \n",
    "        return -1  \n",
    "    return int(hours)*60 + int(minutes) + int(seconds)/60.0  \n",
    "\n",
    "#make a poduct list in a separate column\n",
    "def split_category(s):\n",
    "    '''Separate category from productlist'''\n",
    "    s1 = s.split(\";\")\n",
    "    c = []\n",
    "    for i in s1:\n",
    "        p = i.split(\"/\")[0]\n",
    "        if p not in c:\n",
    "            c.append(p)\n",
    "        else:\n",
    "            pass\n",
    "    return c  \n",
    "\n",
    "#make a poduct list in a separate column\n",
    "def split_product(s):\n",
    "    '''Separate product from the productlist'''\n",
    "    s1 = s.split(\";\")\n",
    "    p = [i.split(\"/\")[-2] for i in s1]\n",
    "    return p \n",
    "\n",
    "def split_sub_category(s):\n",
    "    '''Separate category from productlist'''\n",
    "    s1 = s.split(\";\")\n",
    "    c = []\n",
    "    for i in s1:\n",
    "        p = i.split(\"/\")[1]\n",
    "        if p not in c:\n",
    "            c.append(p)\n",
    "        else:\n",
    "            pass\n",
    "    return c  \n",
    "\n",
    "def split_sub_sub(s):\n",
    "    '''Separate category from productlist'''\n",
    "    s1 = s.split(\";\")\n",
    "    c = []\n",
    "    for i in s1:\n",
    "        p = i.split(\"/\")[2]\n",
    "        if p not in c:\n",
    "            c.append(p)\n",
    "        else:\n",
    "            pass\n",
    "    return c "
   ]
  },
  {
   "cell_type": "code",
   "execution_count": 4,
   "metadata": {},
   "outputs": [],
   "source": [
    "#Feature engineering from time stamp \n",
    "import datetime\n",
    "from datetime import timedelta\n",
    "train[\"startTime\"] = pd.to_datetime(train[\"startTime\"], format= '%d/%m/%y %H:%M')\n",
    "train[\"endTime\"] = pd.to_datetime(train[\"endTime\"], format = '%d/%m/%y %H:%M')\n",
    "train[\"sessionTime\"] = pd.DataFrame(train[\"endTime\"] - train[\"startTime\"])\n",
    "train[\"Weekday\"] = train[\"startTime\"].apply(lambda x: x.weekday())\n",
    "train['Hour'] = train[\"startTime\"].dt.hour\n",
    "train[\"sessionTime\"] = train[\"sessionTime\"].apply(lambda x: str(x))\n",
    "train[\"Total_time\"] = train[\"sessionTime\"].apply(lambda x: time_to_minutes(x))\n",
    "train[\"Number_Of_Products\"] = train[\"ProductList\"].apply(lambda x: len(x.split(\";\")))"
   ]
  },
  {
   "cell_type": "code",
   "execution_count": 5,
   "metadata": {},
   "outputs": [
    {
     "data": {
      "text/plain": [
       "count    10500.000000\n",
       "mean         2.214381\n",
       "std          2.311911\n",
       "min          1.000000\n",
       "25%          1.000000\n",
       "50%          1.000000\n",
       "75%          2.000000\n",
       "max         36.000000\n",
       "Name: Number_Of_Products, dtype: float64"
      ]
     },
     "execution_count": 5,
     "metadata": {},
     "output_type": "execute_result"
    }
   ],
   "source": [
    "train[\"Number_Of_Products\"].describe()"
   ]
  },
  {
   "cell_type": "code",
   "execution_count": 6,
   "metadata": {},
   "outputs": [
    {
     "data": {
      "text/plain": [
       "<matplotlib.axes._subplots.AxesSubplot at 0x10c65e160>"
      ]
     },
     "execution_count": 6,
     "metadata": {},
     "output_type": "execute_result"
    },
    {
     "data": {
      "image/png": "[encoded data removed]",
      "text/plain": [
       "<Figure size 360x360 with 1 Axes>"
      ]
     },
     "metadata": {},
     "output_type": "display_data"
    }
   ],
   "source": [
    "#find who bought most of the products/who shopped the most male or female\n",
    "plt.figure(figsize=(5,5))\n",
    "sns.barplot(\"gender\",\"Number_Of_Products\", data = train, hue = \"gender\")"
   ]
  },
  {
   "cell_type": "code",
   "execution_count": 7,
   "metadata": {},
   "outputs": [
    {
     "data": {
      "text/plain": [
       "<matplotlib.axes._subplots.AxesSubplot at 0x1166f6f98>"
      ]
     },
     "execution_count": 7,
     "metadata": {},
     "output_type": "execute_result"
    },
    {
     "data": {
      "image/png": "[encoded data removed]",
      "text/plain": [
       "<Figure size 720x360 with 1 Axes>"
      ]
     },
     "metadata": {},
     "output_type": "display_data"
    }
   ],
   "source": [
    "# who shopped most in any weekday\n",
    "plt.figure(figsize = (10, 5))\n",
    "sns.barplot(\"Weekday\", \"Number_Of_Products\", data = train, hue = \"gender\")"
   ]
  },
  {
   "cell_type": "code",
   "execution_count": 8,
   "metadata": {},
   "outputs": [
    {
     "data": {
      "text/plain": [
       "<matplotlib.axes._subplots.AxesSubplot at 0x119138c18>"
      ]
     },
     "execution_count": 8,
     "metadata": {},
     "output_type": "execute_result"
    },
    {
     "data": {
      "image/png": "[encoded data removed]",
      "text/plain": [
       "<Figure size 1080x540 with 1 Axes>"
      ]
     },
     "metadata": {},
     "output_type": "display_data"
    }
   ],
   "source": [
    "#who shopped mostly in any hour of the day\n",
    "plt.figure(figsize = (15, 7.5))\n",
    "sns.barplot(\"Hour\", \"Number_Of_Products\", data = train, hue = \"gender\")"
   ]
  },
  {
   "cell_type": "code",
   "execution_count": 9,
   "metadata": {},
   "outputs": [
    {
     "data": {
      "text/plain": [
       "<matplotlib.axes._subplots.AxesSubplot at 0x104c04240>"
      ]
     },
     "execution_count": 9,
     "metadata": {},
     "output_type": "execute_result"
    },
    {
     "data": {
      "image/png": "[encoded data removed]",
      "text/plain": [
       "<Figure size 720x540 with 1 Axes>"
      ]
     },
     "metadata": {},
     "output_type": "display_data"
    }
   ],
   "source": [
    "#Who spent most of the time in product viewing in a weekday\n",
    "plt.figure(figsize = (10, 7.5))\n",
    "sns.barplot(\"Weekday\", \"Total_time\", data = train, hue = \"gender\")"
   ]
  },
  {
   "cell_type": "markdown",
   "metadata": {},
   "source": [
    "-- Error bars are high in this lets verify if any out liers are there by box plot"
   ]
  },
  {
   "cell_type": "code",
   "execution_count": 43,
   "metadata": {},
   "outputs": [
    {
     "data": {
      "image/png": "[encoded data removed]",
      "text/plain": [
       "<Figure size 720x540 with 1 Axes>"
      ]
     },
     "metadata": {},
     "output_type": "display_data"
    }
   ],
   "source": [
    "plt.figure(figsize = (10, 7.5))\n",
    "sns.scatterplot(\"Hour\", \"Total_time\", data=train, hue = \"gender\", \n",
    "                size = \"Number_Of_Products\", alpha= 1)\n",
    "plt.xlabel('Hour')\n",
    "plt.ylabel('Total_time')\n",
    "plt.show()"
   ]
  },
  {
   "cell_type": "code",
   "execution_count": 10,
   "metadata": {},
   "outputs": [
    {
     "data": {
      "text/plain": [
       "<matplotlib.axes._subplots.AxesSubplot at 0x11858fe80>"
      ]
     },
     "execution_count": 10,
     "metadata": {},
     "output_type": "execute_result"
    },
    {
     "data": {
      "image/png": "[encoded data removed]",
      "text/plain": [
       "<Figure size 720x540 with 1 Axes>"
      ]
     },
     "metadata": {},
     "output_type": "display_data"
    }
   ],
   "source": [
    "plt.figure(figsize = (10, 7.5))\n",
    "sns.boxplot(\"Weekday\", \"Total_time\", data = train, hue = \"gender\")"
   ]
  },
  {
   "cell_type": "markdown",
   "metadata": {
    "heading_collapsed": true
   },
   "source": [
    "## Detecting outliers"
   ]
  },
  {
   "cell_type": "markdown",
   "metadata": {
    "hidden": true
   },
   "source": [
    "> There is a huge difference between Q3(75%) and Max \n",
    "We can detect outliers in the data using <b> anamoly detection algorithms <b>\n",
    "    \n",
    "    .Simple Statistical Methods\n",
    "    \n",
    "    .Machine Learning-Based Approach"
   ]
  },
  {
   "cell_type": "markdown",
   "metadata": {
    "hidden": true
   },
   "source": [
    " <b>Statistical method to detect anamoly or outliers in the data <b>"
   ]
  },
  {
   "cell_type": "code",
   "execution_count": 94,
   "metadata": {
    "hidden": true
   },
   "outputs": [
    {
     "data": {
      "text/html": [
       "<div>\n",
       "<style scoped>\n",
       "    .dataframe tbody tr th:only-of-type {\n",
       "        vertical-align: middle;\n",
       "    }\n",
       "\n",
       "    .dataframe tbody tr th {\n",
       "        vertical-align: top;\n",
       "    }\n",
       "\n",
       "    .dataframe thead th {\n",
       "        text-align: right;\n",
       "    }\n",
       "</style>\n",
       "<table border=\"1\" class=\"dataframe\">\n",
       "  <thead>\n",
       "    <tr style=\"text-align: right;\">\n",
       "      <th></th>\n",
       "      <th>count</th>\n",
       "      <th>mean</th>\n",
       "      <th>std</th>\n",
       "      <th>min</th>\n",
       "      <th>25%</th>\n",
       "      <th>50%</th>\n",
       "      <th>75%</th>\n",
       "      <th>max</th>\n",
       "    </tr>\n",
       "    <tr>\n",
       "      <th>gender</th>\n",
       "      <th></th>\n",
       "      <th></th>\n",
       "      <th></th>\n",
       "      <th></th>\n",
       "      <th></th>\n",
       "      <th></th>\n",
       "      <th></th>\n",
       "      <th></th>\n",
       "    </tr>\n",
       "  </thead>\n",
       "  <tbody>\n",
       "    <tr>\n",
       "      <th>female</th>\n",
       "      <td>8192.0</td>\n",
       "      <td>7.910034</td>\n",
       "      <td>78.253796</td>\n",
       "      <td>0.0</td>\n",
       "      <td>0.0</td>\n",
       "      <td>0.0</td>\n",
       "      <td>2.0</td>\n",
       "      <td>1425.0</td>\n",
       "    </tr>\n",
       "    <tr>\n",
       "      <th>male</th>\n",
       "      <td>2308.0</td>\n",
       "      <td>12.032929</td>\n",
       "      <td>104.140400</td>\n",
       "      <td>0.0</td>\n",
       "      <td>0.0</td>\n",
       "      <td>0.0</td>\n",
       "      <td>2.0</td>\n",
       "      <td>1397.0</td>\n",
       "    </tr>\n",
       "  </tbody>\n",
       "</table>\n",
       "</div>"
      ],
      "text/plain": [
       "         count       mean         std  min  25%  50%  75%     max\n",
       "gender                                                           \n",
       "female  8192.0   7.910034   78.253796  0.0  0.0  0.0  2.0  1425.0\n",
       "male    2308.0  12.032929  104.140400  0.0  0.0  0.0  2.0  1397.0"
      ]
     },
     "execution_count": 94,
     "metadata": {},
     "output_type": "execute_result"
    }
   ],
   "source": [
    "train.groupby(\"gender\")[\"Total_time\"].describe()"
   ]
  },
  {
   "cell_type": "code",
   "execution_count": 12,
   "metadata": {
    "hidden": true
   },
   "outputs": [
    {
     "name": "stderr",
     "output_type": "stream",
     "text": [
      "/Users/srinivasaluri/anaconda/lib/python3.6/site-packages/sklearn/ensemble/iforest.py:415: DeprecationWarning: threshold_ attribute is deprecated in 0.20 and will be removed in 0.22.\n",
      "  \" be removed in 0.22.\", DeprecationWarning)\n"
     ]
    },
    {
     "data": {
      "image/png": "[encoded data removed]",
      "text/plain": [
       "<Figure size 720x288 with 1 Axes>"
      ]
     },
     "metadata": {},
     "output_type": "display_data"
    }
   ],
   "source": [
    "from sklearn.ensemble import IsolationForest\n",
    "isolation_forest = IsolationForest(n_estimators=100)\n",
    "isolation_forest.fit(train[\"Total_time\"].values.reshape(-1, 1))\n",
    "xx = np.linspace(train[\"Total_time\"].min(), train[\"Total_time\"].max(), len(train)).reshape(-1,1)\n",
    "anomaly_score = isolation_forest.decision_function(xx)\n",
    "outlier = isolation_forest.predict(xx)  \n",
    "plt.figure(figsize=(10,4))\n",
    "plt.plot(xx, anomaly_score, label=\"anomaly score\")\n",
    "plt.fill_between(xx.T[0], np.min(anomaly_score), np.max(anomaly_score), \n",
    "                 where=outlier==-1, color='r', \n",
    "                 alpha=.4, label= \"outlier region\")\n",
    "plt.legend()\n",
    "plt.ylabel('anomaly score')\n",
    "plt.xlabel(\"Total_time\") \n",
    "plt.show()"
   ]
  },
  {
   "cell_type": "code",
   "execution_count": 45,
   "metadata": {
    "hidden": true
   },
   "outputs": [
    {
     "data": {
      "text/plain": [
       "12.0      36\n",
       "11.0      33\n",
       "13.0      24\n",
       "14.0      21\n",
       "15.0      15\n",
       "          ..\n",
       "579.0      1\n",
       "1089.0     1\n",
       "1290.0     1\n",
       "44.0       1\n",
       "1143.0     1\n",
       "Name: Total_time, Length: 155, dtype: int64"
      ]
     },
     "execution_count": 45,
     "metadata": {},
     "output_type": "execute_result"
    }
   ],
   "source": [
    "# Above 0 and 1 min are determined as outliers which is a length of 200 rows.\n",
    "# Lets see how many number of products they have bought at the time.\n"
   ]
  },
  {
   "cell_type": "markdown",
   "metadata": {
    "heading_collapsed": true
   },
   "source": [
    "## Feature engineering \n",
    "1) Total number of produts per session id\n",
    "\n",
    "2) Hour of purchase\n",
    "\n",
    "3) Total session time per user\n",
    "\n",
    "4) At what day of week purchases are made\n"
   ]
  },
  {
   "cell_type": "code",
   "execution_count": 95,
   "metadata": {
    "hidden": true
   },
   "outputs": [],
   "source": [
    "#Feature engineering for products\n",
    "prod = train[\"ProductList\"].apply(lambda x: split_product(x))\n",
    "cat = train[\"ProductList\"].apply(lambda x: split_category(x))\n",
    "sub_cat = train[\"ProductList\"].apply(lambda x: split_sub_category(x))\n",
    "sub_sub = train[\"ProductList\"].apply(lambda x: split_sub_sub(x))"
   ]
  },
  {
   "cell_type": "code",
   "execution_count": 96,
   "metadata": {
    "hidden": true
   },
   "outputs": [],
   "source": [
    "#Get dummies for Products\n",
    "prod_dummy = pd.get_dummies(prod.apply(pd.Series).stack()).sum(level=0)\n",
    "cat_dummy = pd.get_dummies(cat.apply(pd.Series).stack()).sum(level=0)\n",
    "sub_dummy = pd.get_dummies(sub_cat.apply(pd.Series).stack()).sum(level=0)\n",
    "sub_sub_dummy = pd.get_dummies(sub_sub.apply(pd.Series).stack()).sum(level=0)"
   ]
  },
  {
   "cell_type": "code",
   "execution_count": 98,
   "metadata": {
    "hidden": true
   },
   "outputs": [
    {
     "name": "stdout",
     "output_type": "stream",
     "text": [
      "(10500, 16503) (10500, 11) (10500, 85) (10500, 360)\n"
     ]
    }
   ],
   "source": [
    "print(prod_dummy.shape, cat_dummy.shape, sub_dummy.shape, sub_sub_dummy.shape)"
   ]
  },
  {
   "cell_type": "code",
   "execution_count": 99,
   "metadata": {
    "hidden": true
   },
   "outputs": [],
   "source": [
    "train2 = pd.concat([train, cat_dummy], axis = 1)"
   ]
  },
  {
   "cell_type": "code",
   "execution_count": 100,
   "metadata": {
    "hidden": true
   },
   "outputs": [
    {
     "data": {
      "text/plain": [
       "(10500, 21)"
      ]
     },
     "execution_count": 100,
     "metadata": {},
     "output_type": "execute_result"
    }
   ],
   "source": [
    "train2.shape"
   ]
  },
  {
   "cell_type": "code",
   "execution_count": 101,
   "metadata": {
    "hidden": true
   },
   "outputs": [
    {
     "data": {
      "text/html": [
       "<div>\n",
       "<style scoped>\n",
       "    .dataframe tbody tr th:only-of-type {\n",
       "        vertical-align: middle;\n",
       "    }\n",
       "\n",
       "    .dataframe tbody tr th {\n",
       "        vertical-align: top;\n",
       "    }\n",
       "\n",
       "    .dataframe thead th {\n",
       "        text-align: right;\n",
       "    }\n",
       "</style>\n",
       "<table border=\"1\" class=\"dataframe\">\n",
       "  <thead>\n",
       "    <tr style=\"text-align: right;\">\n",
       "      <th></th>\n",
       "      <th>gender</th>\n",
       "      <th>Weekday</th>\n",
       "      <th>Hour</th>\n",
       "      <th>Total_time</th>\n",
       "      <th>Number_Of_Products</th>\n",
       "      <th>A00001</th>\n",
       "      <th>A00002</th>\n",
       "      <th>A00003</th>\n",
       "      <th>A00004</th>\n",
       "      <th>A00005</th>\n",
       "      <th>A00006</th>\n",
       "      <th>A00007</th>\n",
       "      <th>A00008</th>\n",
       "      <th>A00009</th>\n",
       "      <th>A00010</th>\n",
       "      <th>A00011</th>\n",
       "    </tr>\n",
       "  </thead>\n",
       "  <tbody>\n",
       "    <tr>\n",
       "      <th>1</th>\n",
       "      <td>1</td>\n",
       "      <td>1</td>\n",
       "      <td>14</td>\n",
       "      <td>6.0</td>\n",
       "      <td>7</td>\n",
       "      <td>1</td>\n",
       "      <td>0</td>\n",
       "      <td>0</td>\n",
       "      <td>0</td>\n",
       "      <td>0</td>\n",
       "      <td>0</td>\n",
       "      <td>0</td>\n",
       "      <td>0</td>\n",
       "      <td>0</td>\n",
       "      <td>0</td>\n",
       "      <td>0</td>\n",
       "    </tr>\n",
       "    <tr>\n",
       "      <th>2</th>\n",
       "      <td>0</td>\n",
       "      <td>0</td>\n",
       "      <td>15</td>\n",
       "      <td>0.0</td>\n",
       "      <td>1</td>\n",
       "      <td>0</td>\n",
       "      <td>1</td>\n",
       "      <td>0</td>\n",
       "      <td>0</td>\n",
       "      <td>0</td>\n",
       "      <td>0</td>\n",
       "      <td>0</td>\n",
       "      <td>0</td>\n",
       "      <td>0</td>\n",
       "      <td>0</td>\n",
       "      <td>0</td>\n",
       "    </tr>\n",
       "    <tr>\n",
       "      <th>3</th>\n",
       "      <td>0</td>\n",
       "      <td>6</td>\n",
       "      <td>2</td>\n",
       "      <td>3.0</td>\n",
       "      <td>3</td>\n",
       "      <td>0</td>\n",
       "      <td>1</td>\n",
       "      <td>0</td>\n",
       "      <td>0</td>\n",
       "      <td>0</td>\n",
       "      <td>0</td>\n",
       "      <td>0</td>\n",
       "      <td>0</td>\n",
       "      <td>0</td>\n",
       "      <td>0</td>\n",
       "      <td>0</td>\n",
       "    </tr>\n",
       "    <tr>\n",
       "      <th>4</th>\n",
       "      <td>1</td>\n",
       "      <td>2</td>\n",
       "      <td>16</td>\n",
       "      <td>2.0</td>\n",
       "      <td>2</td>\n",
       "      <td>1</td>\n",
       "      <td>0</td>\n",
       "      <td>0</td>\n",
       "      <td>0</td>\n",
       "      <td>0</td>\n",
       "      <td>0</td>\n",
       "      <td>0</td>\n",
       "      <td>0</td>\n",
       "      <td>0</td>\n",
       "      <td>0</td>\n",
       "      <td>0</td>\n",
       "    </tr>\n",
       "  </tbody>\n",
       "</table>\n",
       "</div>"
      ],
      "text/plain": [
       "   gender  Weekday  Hour  Total_time  Number_Of_Products  A00001  A00002  \\\n",
       "1       1        1    14         6.0                   7       1       0   \n",
       "2       0        0    15         0.0                   1       0       1   \n",
       "3       0        6     2         3.0                   3       0       1   \n",
       "4       1        2    16         2.0                   2       1       0   \n",
       "\n",
       "   A00003  A00004  A00005  A00006  A00007  A00008  A00009  A00010  A00011  \n",
       "1       0       0       0       0       0       0       0       0       0  \n",
       "2       0       0       0       0       0       0       0       0       0  \n",
       "3       0       0       0       0       0       0       0       0       0  \n",
       "4       0       0       0       0       0       0       0       0       0  "
      ]
     },
     "execution_count": 101,
     "metadata": {},
     "output_type": "execute_result"
    }
   ],
   "source": [
    "train2 = train2.drop([\"session_id\", \"startTime\", \"endTime\", \n",
    "                      \"ProductList\", \"sessionTime\"], axis = 1)\n",
    "train2[\"gender\"].replace([\"male\", \"female\"], [1,0], inplace = True)\n",
    "train2[1:5]"
   ]
  },
  {
   "cell_type": "code",
   "execution_count": 102,
   "metadata": {
    "hidden": true
   },
   "outputs": [
    {
     "data": {
      "text/plain": [
       "(10500, 16)"
      ]
     },
     "execution_count": 102,
     "metadata": {},
     "output_type": "execute_result"
    }
   ],
   "source": [
    "train2.shape"
   ]
  },
  {
   "cell_type": "markdown",
   "metadata": {},
   "source": [
    "## Base model Logistic regression by giving class weights\n",
    "- there is sample imbalance"
   ]
  },
  {
   "cell_type": "code",
   "execution_count": 103,
   "metadata": {},
   "outputs": [],
   "source": [
    "from sklearn.linear_model import LogisticRegression, LogisticRegressionCV\n",
    "from sklearn.model_selection import train_test_split\n",
    "from sklearn.preprocessing import StandardScaler, MinMaxScaler\n",
    "from sklearn.metrics import (accuracy_score, precision_score, recall_score, \n",
    "                             f1_score, roc_auc_score, roc_curve)\n",
    "from sklearn.metrics import confusion_matrix"
   ]
  },
  {
   "cell_type": "code",
   "execution_count": 104,
   "metadata": {},
   "outputs": [],
   "source": [
    "X = train2[train2[\"Total_time\"] < 30].drop(\"gender\", axis = 1)\n",
    "y = train2[train2[\"Total_time\"] < 30].gender"
   ]
  },
  {
   "cell_type": "code",
   "execution_count": 105,
   "metadata": {},
   "outputs": [
    {
     "name": "stdout",
     "output_type": "stream",
     "text": [
      "(7759, 15) (2587, 15)\n"
     ]
    }
   ],
   "source": [
    "\n",
    "X_train, X_val, y_train, y_val = train_test_split(X, y, test_size = 0.25,\n",
    "                                                    random_state =10)\n",
    "\n",
    "print(X_train.shape, X_val.shape)"
   ]
  },
  {
   "cell_type": "code",
   "execution_count": 106,
   "metadata": {},
   "outputs": [
    {
     "data": {
      "text/plain": [
       "0    6042\n",
       "1    1717\n",
       "Name: gender, dtype: int64"
      ]
     },
     "execution_count": 106,
     "metadata": {},
     "output_type": "execute_result"
    }
   ],
   "source": [
    "y_train.value_counts()"
   ]
  },
  {
   "cell_type": "code",
   "execution_count": 107,
   "metadata": {},
   "outputs": [
    {
     "name": "stdout",
     "output_type": "stream",
     "text": [
      "0.8624822786441552\n"
     ]
    }
   ],
   "source": [
    "logit = LogisticRegression(C = 1.0, class_weight={1:3, 0:1}, solver= \"lbfgs\")\n",
    "scale = StandardScaler()\n",
    "X_train_scale = scale.fit_transform(X_train)\n",
    "X_val_scale = scale.fit_transform(X_val)\n",
    "logit.fit(X_train_scale,y_train)\n",
    "print(logit.score(X_train_scale, y_train)) "
   ]
  },
  {
   "cell_type": "code",
   "execution_count": 108,
   "metadata": {},
   "outputs": [
    {
     "name": "stdout",
     "output_type": "stream",
     "text": [
      "0.8759180517974487 0.7341513292433538 0.6527272727272727 0.6910490856592878 0.7944539652787076\n"
     ]
    }
   ],
   "source": [
    "preds = logit.predict(X_val_scale)\n",
    "prob = logit.predict_proba(X_val_scale)\n",
    "print(accuracy_score(y_val, preds),\n",
    "      precision_score(y_val, preds),\n",
    "      recall_score(y_val, preds),\n",
    "      f1_score(y_val, preds),\n",
    "     roc_auc_score(y_val, preds))"
   ]
  },
  {
   "cell_type": "code",
   "execution_count": 109,
   "metadata": {},
   "outputs": [
    {
     "data": {
      "text/plain": [
       "array([[1907,  130],\n",
       "       [ 191,  359]])"
      ]
     },
     "execution_count": 109,
     "metadata": {},
     "output_type": "execute_result"
    }
   ],
   "source": [
    "#CONFUSION MATRIX clearly indicates effect of sample imbalence \n",
    "confusion_matrix(y_val, preds)"
   ]
  },
  {
   "cell_type": "code",
   "execution_count": 110,
   "metadata": {},
   "outputs": [
    {
     "data": {
      "image/png": "[encoded data removed]",
      "text/plain": [
       "<Figure size 360x360 with 1 Axes>"
      ]
     },
     "metadata": {},
     "output_type": "display_data"
    }
   ],
   "source": [
    "prob = logit.predict_proba(X_val_scale)[:,1]\n",
    "plt.figure(figsize = (5, 5))\n",
    "fpr_logit, tpr_logit, thresholds = roc_curve(y_val,prob)\n",
    "auc_val = np.trapz(tpr_logit,fpr_logit)\n",
    "plt.plot(fpr_logit,tpr_logit,label=\" auc=\"+str(auc_val))\n",
    "plt.xlabel('FPR')\n",
    "plt.ylabel('TPR')\n",
    "plt.title('ROC curve')\n",
    "plt.legend(loc=4)\n",
    "plt.show() "
   ]
  },
  {
   "cell_type": "markdown",
   "metadata": {},
   "source": [
    "-- Logistic could not give better f1 score, recall_score and roc_auc_score"
   ]
  },
  {
   "cell_type": "markdown",
   "metadata": {},
   "source": [
    "## Using SMOTE for oversampling"
   ]
  },
  {
   "cell_type": "code",
   "execution_count": 147,
   "metadata": {},
   "outputs": [
    {
     "name": "stdout",
     "output_type": "stream",
     "text": [
      "0    6042\n",
      "1    1717\n",
      "Name: gender, dtype: int64 [6042 6042]\n"
     ]
    }
   ],
   "source": [
    "#Using SMOTE for oversampling\n",
    "from imblearn.over_sampling import SMOTE\n",
    "X_smoted, y_smoted = SMOTE(random_state=10).fit_sample(X_train,y_train)\n",
    "print(y_train.value_counts(), np.bincount(y_smoted))"
   ]
  },
  {
   "cell_type": "code",
   "execution_count": 150,
   "metadata": {},
   "outputs": [
    {
     "name": "stdout",
     "output_type": "stream",
     "text": [
      "0.781777557100298\n"
     ]
    }
   ],
   "source": [
    "logit = LogisticRegression(C = 1.0, solver= \"lbfgs\")\n",
    "scale = StandardScaler()\n",
    "X_train_scale = scale.fit_transform(X_smoted)\n",
    "X_val_scale = scale.fit_transform(X_val)\n",
    "logit.fit(X_train_scale,y_smoted)\n",
    "print(logit.score(X_train_scale, y_smoted)) "
   ]
  },
  {
   "cell_type": "code",
   "execution_count": 151,
   "metadata": {},
   "outputs": [
    {
     "name": "stdout",
     "output_type": "stream",
     "text": [
      "0.8678005411673754 0.6992337164750958 0.6636363636363637 0.6809701492537313 0.7932811175079216\n"
     ]
    }
   ],
   "source": [
    "preds = logit.predict(X_val_scale)\n",
    "prob = logit.predict_proba(X_val_scale)\n",
    "print(accuracy_score(y_val, preds),\n",
    "      precision_score(y_val, preds),\n",
    "      recall_score(y_val, preds),\n",
    "      f1_score(y_val, preds),\n",
    "     roc_auc_score(y_val, preds))"
   ]
  },
  {
   "cell_type": "code",
   "execution_count": 143,
   "metadata": {},
   "outputs": [
    {
     "data": {
      "image/png": "[encoded data removed]",
      "text/plain": [
       "<Figure size 360x360 with 1 Axes>"
      ]
     },
     "metadata": {},
     "output_type": "display_data"
    }
   ],
   "source": [
    "prob = logit.predict_proba(X_val_scale)[:,1]\n",
    "plt.figure(figsize = (5, 5))\n",
    "fpr_logit, tpr_logit, thresholds = roc_curve(y_val,prob)\n",
    "auc_val = np.trapz(tpr_logit,fpr_logit)\n",
    "plt.plot(fpr_logit,tpr_logit,label=\" auc=\"+str(auc_val))\n",
    "plt.xlabel('FPR')\n",
    "plt.ylabel('TPR')\n",
    "plt.title('ROC curve')\n",
    "plt.legend(loc=4)\n",
    "plt.show() "
   ]
  },
  {
   "cell_type": "code",
   "execution_count": 144,
   "metadata": {},
   "outputs": [
    {
     "data": {
      "text/plain": [
       "array([[1880,  157],\n",
       "       [ 185,  365]])"
      ]
     },
     "execution_count": 144,
     "metadata": {},
     "output_type": "execute_result"
    }
   ],
   "source": [
    "#CONFUSION MATRIX clearly indicates effect of sample imbalence \n",
    "confusion_matrix(y_val, preds)"
   ]
  },
  {
   "cell_type": "markdown",
   "metadata": {},
   "source": [
    "## XGBoost"
   ]
  },
  {
   "cell_type": "code",
   "execution_count": 115,
   "metadata": {},
   "outputs": [
    {
     "name": "stdout",
     "output_type": "stream",
     "text": [
      "Best: 0.819310 using {'scale_pos_weight': 1}\n"
     ]
    }
   ],
   "source": [
    "#Grid search to find best parameters for XGBoost\n",
    "from xgboost import XGBClassifier\n",
    "from sklearn.model_selection import GridSearchCV\n",
    "from sklearn.model_selection import RepeatedStratifiedKFold\n",
    "model = XGBClassifier()\n",
    "weights = [1, 10, 25, 50, 75, 99, 100, 1000]\n",
    "param_grid = dict(scale_pos_weight=weights)\n",
    "cv = RepeatedStratifiedKFold(n_splits=10, n_repeats=3, random_state=1)\n",
    "# define grid search\n",
    "grid = GridSearchCV(estimator=model, param_grid=param_grid, n_jobs=-1, cv=cv, scoring='roc_auc')\n",
    "grid_result = grid.fit(X, y)\n",
    "print(\"Best: %f using %s\" % (grid_result.best_score_, grid_result.best_params_))"
   ]
  },
  {
   "cell_type": "code",
   "execution_count": 116,
   "metadata": {},
   "outputs": [
    {
     "name": "stdout",
     "output_type": "stream",
     "text": [
      "0.819310 (0.020251) with: {'scale_pos_weight': 1}\n",
      "0.818468 (0.018699) with: {'scale_pos_weight': 10}\n",
      "0.817422 (0.017621) with: {'scale_pos_weight': 25}\n",
      "0.817326 (0.019377) with: {'scale_pos_weight': 50}\n",
      "0.816285 (0.020677) with: {'scale_pos_weight': 75}\n",
      "0.816213 (0.019929) with: {'scale_pos_weight': 99}\n",
      "0.816403 (0.019695) with: {'scale_pos_weight': 100}\n",
      "0.815094 (0.019805) with: {'scale_pos_weight': 1000}\n"
     ]
    }
   ],
   "source": [
    "# report all configurations\n",
    "means = grid_result.cv_results_['mean_test_score']\n",
    "stds = grid_result.cv_results_['std_test_score']\n",
    "params = grid_result.cv_results_['params']\n",
    "for mean, stdev, param in zip(means, stds, params):\n",
    "    print(\"%f (%f) with: %r\" % (mean, stdev, param))"
   ]
  },
  {
   "cell_type": "code",
   "execution_count": 117,
   "metadata": {},
   "outputs": [],
   "source": [
    "xgb = XGBClassifier(base_score=0.5, booster='gbtree', colsample_bylevel=1,\n",
    "       colsample_bytree=1, gamma=0, learning_rate=0.2, max_delta_step=0,\n",
    "       max_depth=6, max_features='sqrt', min_child_weight=3, missing=None,\n",
    "       n_estimators=100, n_jobs=1, nthread=None,scoring = 'roc_auc',\n",
    "       objective='binary:logistic', random_state=10, reg_alpha=0,\n",
    "       reg_lambda=1, scale_pos_weight=1, seed=None, silent=True,\n",
    "       subsample=0.8)"
   ]
  },
  {
   "cell_type": "code",
   "execution_count": 146,
   "metadata": {},
   "outputs": [
    {
     "name": "stdout",
     "output_type": "stream",
     "text": [
      "0.8820724320144349\n",
      "0.8763045999226904 0.7649769585253456 0.6036363636363636 0.6747967479674798 0.7767813629669299\n"
     ]
    }
   ],
   "source": [
    "xgb.fit(X_train, y_train)\n",
    "print(xgb.score(X_train, y_train))\n",
    "preds = xgb.predict(X_val)\n",
    "prob = xgb.predict_proba(X_val)\n",
    "print(accuracy_score(y_val, preds),\n",
    "      precision_score(y_val, preds),\n",
    "      recall_score(y_val, preds),\n",
    "      f1_score(y_val, preds),\n",
    "     roc_auc_score(y_val, preds))"
   ]
  },
  {
   "cell_type": "code",
   "execution_count": 120,
   "metadata": {},
   "outputs": [
    {
     "data": {
      "image/png": "[encoded data removed]",
      "text/plain": [
       "<Figure size 360x360 with 1 Axes>"
      ]
     },
     "metadata": {},
     "output_type": "display_data"
    }
   ],
   "source": [
    "prob = xgb.predict_proba(X_val)[:,1]\n",
    "plt.figure(figsize = (5, 5))\n",
    "fpr_logit, tpr_logit, thresholds = roc_curve(y_val,prob)\n",
    "auc_val = np.trapz(tpr_logit,fpr_logit)\n",
    "plt.plot(fpr_logit,tpr_logit,label=\" auc=\"+str(auc_val))\n",
    "plt.xlabel('FPR')\n",
    "plt.ylabel('TPR')\n",
    "plt.title('ROC curve')\n",
    "plt.legend(loc=4)\n",
    "plt.show() "
   ]
  },
  {
   "cell_type": "code",
   "execution_count": 121,
   "metadata": {},
   "outputs": [
    {
     "name": "stdout",
     "output_type": "stream",
     "text": [
      "LogisticRegression Model best F1 score 0.356 at prob decision threshold >= 0.431\n"
     ]
    },
    {
     "data": {
      "image/png": "[encoded data removed]",
      "text/plain": [
       "<Figure size 432x288 with 1 Axes>"
      ]
     },
     "metadata": {},
     "output_type": "display_data"
    }
   ],
   "source": [
    "#dummy threshold\n",
    "thresh_ps = np.linspace(.10,.50,1000)\n",
    "#predicting probabilities\n",
    "prob = logit.predict_proba(X_val)[:, 1]\n",
    "f1_scores = []\n",
    "for p in thresh_ps:\n",
    "    prob_labels = prob >= p\n",
    "    f1_scores.append(f1_score(y_val, prob_labels))\n",
    "    \n",
    "plt.plot(thresh_ps, f1_scores)\n",
    "plt.title('F1 Score vs. Positive Class Decision Probability Threshold', fontsize = 16, color = 'blue')\n",
    "plt.xlabel('P threshold', fontsize = 14)\n",
    "plt.ylabel('F1 score', fontsize = 14)\n",
    "\n",
    "best_f1_score = np.max(f1_scores) \n",
    "best_thresh_p = thresh_ps[np.argmax(f1_scores)]\n",
    "\n",
    "print('LogisticRegression Model best F1 score %.3f at prob decision threshold >= %.3f' \n",
    "      % (best_f1_score, best_thresh_p))"
   ]
  },
  {
   "cell_type": "code",
   "execution_count": 122,
   "metadata": {},
   "outputs": [
    {
     "data": {
      "text/plain": [
       "array([[1935,  102],\n",
       "       [ 218,  332]])"
      ]
     },
     "execution_count": 122,
     "metadata": {},
     "output_type": "execute_result"
    }
   ],
   "source": [
    "#CONFUSION MATRIX clearly indicates effect of sample imbalence \n",
    "confusion_matrix(y_val, preds)"
   ]
  },
  {
   "cell_type": "markdown",
   "metadata": {},
   "source": [
    "## Predict on test"
   ]
  },
  {
   "cell_type": "code",
   "execution_count": 123,
   "metadata": {},
   "outputs": [
    {
     "data": {
      "text/plain": [
       "(4500, 4)"
      ]
     },
     "execution_count": 123,
     "metadata": {},
     "output_type": "execute_result"
    }
   ],
   "source": [
    "## predict on test set\n",
    "test = pd.read_csv(\"test_Yix80N0.csv\")\n",
    "test.shape"
   ]
  },
  {
   "cell_type": "code",
   "execution_count": 124,
   "metadata": {},
   "outputs": [
    {
     "data": {
      "text/html": [
       "<div>\n",
       "<style scoped>\n",
       "    .dataframe tbody tr th:only-of-type {\n",
       "        vertical-align: middle;\n",
       "    }\n",
       "\n",
       "    .dataframe tbody tr th {\n",
       "        vertical-align: top;\n",
       "    }\n",
       "\n",
       "    .dataframe thead th {\n",
       "        text-align: right;\n",
       "    }\n",
       "</style>\n",
       "<table border=\"1\" class=\"dataframe\">\n",
       "  <thead>\n",
       "    <tr style=\"text-align: right;\">\n",
       "      <th></th>\n",
       "      <th>session_id</th>\n",
       "      <th>startTime</th>\n",
       "      <th>endTime</th>\n",
       "      <th>ProductList</th>\n",
       "    </tr>\n",
       "  </thead>\n",
       "  <tbody>\n",
       "    <tr>\n",
       "      <th>1</th>\n",
       "      <td>u19725</td>\n",
       "      <td>19/12/14 13:52</td>\n",
       "      <td>19/12/14 13:52</td>\n",
       "      <td>A00002/B00005/C00067/D02026/</td>\n",
       "    </tr>\n",
       "    <tr>\n",
       "      <th>2</th>\n",
       "      <td>u11795</td>\n",
       "      <td>01/12/14 10:44</td>\n",
       "      <td>01/12/14 10:44</td>\n",
       "      <td>A00002/B00002/C00004/D12538/</td>\n",
       "    </tr>\n",
       "    <tr>\n",
       "      <th>3</th>\n",
       "      <td>u22639</td>\n",
       "      <td>08/12/14 20:19</td>\n",
       "      <td>08/12/14 20:22</td>\n",
       "      <td>A00002/B00003/C00079/D22781/;A00002/B00003/C00...</td>\n",
       "    </tr>\n",
       "    <tr>\n",
       "      <th>4</th>\n",
       "      <td>u18034</td>\n",
       "      <td>15/12/14 19:33</td>\n",
       "      <td>15/12/14 19:33</td>\n",
       "      <td>A00002/B00001/C00010/D23419/</td>\n",
       "    </tr>\n",
       "    <tr>\n",
       "      <th>5</th>\n",
       "      <td>u11327</td>\n",
       "      <td>27/11/14 8:41</td>\n",
       "      <td>27/11/14 8:47</td>\n",
       "      <td>A00001/B00009/C00028/D13690/;A00001/B00009/C00...</td>\n",
       "    </tr>\n",
       "    <tr>\n",
       "      <th>6</th>\n",
       "      <td>u12768</td>\n",
       "      <td>26/11/14 21:23</td>\n",
       "      <td>26/11/14 21:24</td>\n",
       "      <td>A00001/B00031/C00044/D13454/</td>\n",
       "    </tr>\n",
       "    <tr>\n",
       "      <th>7</th>\n",
       "      <td>u17011</td>\n",
       "      <td>25/11/14 20:02</td>\n",
       "      <td>25/11/14 20:03</td>\n",
       "      <td>A00001/B00009/C00028/D11956/</td>\n",
       "    </tr>\n",
       "    <tr>\n",
       "      <th>8</th>\n",
       "      <td>u13527</td>\n",
       "      <td>20/12/14 16:26</td>\n",
       "      <td>20/12/14 16:26</td>\n",
       "      <td>A00002/B00003/C00005/D26497/</td>\n",
       "    </tr>\n",
       "    <tr>\n",
       "      <th>9</th>\n",
       "      <td>u24492</td>\n",
       "      <td>18/12/14 13:15</td>\n",
       "      <td>18/12/14 13:19</td>\n",
       "      <td>A00001/B00001/C00019/D04978/;A00001/B00001/C00...</td>\n",
       "    </tr>\n",
       "  </tbody>\n",
       "</table>\n",
       "</div>"
      ],
      "text/plain": [
       "  session_id       startTime         endTime  \\\n",
       "1     u19725  19/12/14 13:52  19/12/14 13:52   \n",
       "2     u11795  01/12/14 10:44  01/12/14 10:44   \n",
       "3     u22639  08/12/14 20:19  08/12/14 20:22   \n",
       "4     u18034  15/12/14 19:33  15/12/14 19:33   \n",
       "5     u11327   27/11/14 8:41   27/11/14 8:47   \n",
       "6     u12768  26/11/14 21:23  26/11/14 21:24   \n",
       "7     u17011  25/11/14 20:02  25/11/14 20:03   \n",
       "8     u13527  20/12/14 16:26  20/12/14 16:26   \n",
       "9     u24492  18/12/14 13:15  18/12/14 13:19   \n",
       "\n",
       "                                         ProductList  \n",
       "1                       A00002/B00005/C00067/D02026/  \n",
       "2                       A00002/B00002/C00004/D12538/  \n",
       "3  A00002/B00003/C00079/D22781/;A00002/B00003/C00...  \n",
       "4                       A00002/B00001/C00010/D23419/  \n",
       "5  A00001/B00009/C00028/D13690/;A00001/B00009/C00...  \n",
       "6                       A00001/B00031/C00044/D13454/  \n",
       "7                       A00001/B00009/C00028/D11956/  \n",
       "8                       A00002/B00003/C00005/D26497/  \n",
       "9  A00001/B00001/C00019/D04978/;A00001/B00001/C00...  "
      ]
     },
     "execution_count": 124,
     "metadata": {},
     "output_type": "execute_result"
    }
   ],
   "source": [
    "test[1:10]"
   ]
  },
  {
   "cell_type": "code",
   "execution_count": 129,
   "metadata": {},
   "outputs": [],
   "source": [
    "test[\"startTime\"] = pd.to_datetime(test[\"startTime\"], format= '%d/%m/%y %H:%M')\n",
    "test[\"endTime\"] = pd.to_datetime(test[\"endTime\"], format = '%d/%m/%y %H:%M')\n",
    "test[\"sessionTime\"] = pd.DataFrame(test[\"endTime\"] - test[\"startTime\"])\n",
    "test[\"Weekday\"] = test[\"startTime\"].apply(lambda x: x.weekday())\n",
    "test['Hour'] = train[\"startTime\"].dt.hour\n",
    "test[\"sessionTime\"] = test[\"sessionTime\"].apply(lambda x: str(x))\n",
    "test[\"Total_time\"] = test[\"sessionTime\"].apply(lambda x: time_to_minutes(x))\n",
    "test[\"Number_Of_Products\"] = test[\"ProductList\"].apply(lambda x: len(x.split(\";\")))"
   ]
  },
  {
   "cell_type": "code",
   "execution_count": 130,
   "metadata": {},
   "outputs": [],
   "source": [
    "prod = test[\"ProductList\"].apply(lambda x: split_product(x))\n",
    "cat = test[\"ProductList\"].apply(lambda x: split_category(x))\n",
    "sub_cat = test[\"ProductList\"].apply(lambda x: split_sub_category(x))\n",
    "sub_sub = test[\"ProductList\"].apply(lambda x: split_sub_sub(x)) "
   ]
  },
  {
   "cell_type": "code",
   "execution_count": 131,
   "metadata": {},
   "outputs": [],
   "source": [
    "#Get dummies\n",
    "prod_dummy = pd.get_dummies(prod.apply(pd.Series).stack()).sum(level=0)\n",
    "cat_dummy = pd.get_dummies(cat.apply(pd.Series).stack()).sum(level=0)\n",
    "sub_dummy = pd.get_dummies(sub_cat.apply(pd.Series).stack()).sum(level=0)\n",
    "sub_sub_dummy = pd.get_dummies(sub_sub.apply(pd.Series).stack()).sum(level=0)"
   ]
  },
  {
   "cell_type": "code",
   "execution_count": 132,
   "metadata": {},
   "outputs": [],
   "source": [
    "test2 = pd.concat([test, cat_dummy], axis = 1)"
   ]
  },
  {
   "cell_type": "code",
   "execution_count": 133,
   "metadata": {},
   "outputs": [],
   "source": [
    "test2 = test2.drop([\"session_id\", \"startTime\", \"endTime\", \n",
    "                      \"ProductList\", \"sessionTime\"], axis = 1)"
   ]
  },
  {
   "cell_type": "code",
   "execution_count": 134,
   "metadata": {},
   "outputs": [
    {
     "data": {
      "text/plain": [
       "(4500, 15)"
      ]
     },
     "execution_count": 134,
     "metadata": {},
     "output_type": "execute_result"
    }
   ],
   "source": [
    "test2.shape"
   ]
  },
  {
   "cell_type": "code",
   "execution_count": 138,
   "metadata": {},
   "outputs": [
    {
     "data": {
      "text/plain": [
       "array([0, 0, 0, ..., 0, 1, 0])"
      ]
     },
     "execution_count": 138,
     "metadata": {},
     "output_type": "execute_result"
    }
   ],
   "source": [
    "preds = xgb.predict(test2)[]"
   ]
  },
  {
   "cell_type": "code",
   "execution_count": 139,
   "metadata": {},
   "outputs": [
    {
     "data": {
      "text/html": [
       "<div>\n",
       "<style scoped>\n",
       "    .dataframe tbody tr th:only-of-type {\n",
       "        vertical-align: middle;\n",
       "    }\n",
       "\n",
       "    .dataframe tbody tr th {\n",
       "        vertical-align: top;\n",
       "    }\n",
       "\n",
       "    .dataframe thead th {\n",
       "        text-align: right;\n",
       "    }\n",
       "</style>\n",
       "<table border=\"1\" class=\"dataframe\">\n",
       "  <thead>\n",
       "    <tr style=\"text-align: right;\">\n",
       "      <th></th>\n",
       "      <th>session_id</th>\n",
       "      <th>gender_pred</th>\n",
       "    </tr>\n",
       "  </thead>\n",
       "  <tbody>\n",
       "    <tr>\n",
       "      <th>0</th>\n",
       "      <td>u12112</td>\n",
       "      <td>0</td>\n",
       "    </tr>\n",
       "    <tr>\n",
       "      <th>1</th>\n",
       "      <td>u19725</td>\n",
       "      <td>1</td>\n",
       "    </tr>\n",
       "    <tr>\n",
       "      <th>2</th>\n",
       "      <td>u11795</td>\n",
       "      <td>0</td>\n",
       "    </tr>\n",
       "    <tr>\n",
       "      <th>3</th>\n",
       "      <td>u22639</td>\n",
       "      <td>0</td>\n",
       "    </tr>\n",
       "    <tr>\n",
       "      <th>4</th>\n",
       "      <td>u18034</td>\n",
       "      <td>0</td>\n",
       "    </tr>\n",
       "    <tr>\n",
       "      <th>5</th>\n",
       "      <td>u11327</td>\n",
       "      <td>0</td>\n",
       "    </tr>\n",
       "    <tr>\n",
       "      <th>6</th>\n",
       "      <td>u12768</td>\n",
       "      <td>0</td>\n",
       "    </tr>\n",
       "    <tr>\n",
       "      <th>7</th>\n",
       "      <td>u17011</td>\n",
       "      <td>0</td>\n",
       "    </tr>\n",
       "    <tr>\n",
       "      <th>8</th>\n",
       "      <td>u13527</td>\n",
       "      <td>0</td>\n",
       "    </tr>\n",
       "    <tr>\n",
       "      <th>9</th>\n",
       "      <td>u24492</td>\n",
       "      <td>0</td>\n",
       "    </tr>\n",
       "    <tr>\n",
       "      <th>10</th>\n",
       "      <td>u10027</td>\n",
       "      <td>0</td>\n",
       "    </tr>\n",
       "    <tr>\n",
       "      <th>11</th>\n",
       "      <td>u15734</td>\n",
       "      <td>1</td>\n",
       "    </tr>\n",
       "    <tr>\n",
       "      <th>12</th>\n",
       "      <td>u11242</td>\n",
       "      <td>1</td>\n",
       "    </tr>\n",
       "    <tr>\n",
       "      <th>13</th>\n",
       "      <td>u18013</td>\n",
       "      <td>1</td>\n",
       "    </tr>\n",
       "    <tr>\n",
       "      <th>14</th>\n",
       "      <td>u15322</td>\n",
       "      <td>0</td>\n",
       "    </tr>\n",
       "    <tr>\n",
       "      <th>15</th>\n",
       "      <td>u14059</td>\n",
       "      <td>0</td>\n",
       "    </tr>\n",
       "    <tr>\n",
       "      <th>16</th>\n",
       "      <td>u22231</td>\n",
       "      <td>0</td>\n",
       "    </tr>\n",
       "    <tr>\n",
       "      <th>17</th>\n",
       "      <td>u20251</td>\n",
       "      <td>1</td>\n",
       "    </tr>\n",
       "    <tr>\n",
       "      <th>18</th>\n",
       "      <td>u13118</td>\n",
       "      <td>0</td>\n",
       "    </tr>\n",
       "    <tr>\n",
       "      <th>19</th>\n",
       "      <td>u19704</td>\n",
       "      <td>0</td>\n",
       "    </tr>\n",
       "    <tr>\n",
       "      <th>20</th>\n",
       "      <td>u16615</td>\n",
       "      <td>0</td>\n",
       "    </tr>\n",
       "    <tr>\n",
       "      <th>21</th>\n",
       "      <td>u11846</td>\n",
       "      <td>0</td>\n",
       "    </tr>\n",
       "    <tr>\n",
       "      <th>22</th>\n",
       "      <td>u12002</td>\n",
       "      <td>0</td>\n",
       "    </tr>\n",
       "    <tr>\n",
       "      <th>23</th>\n",
       "      <td>u19607</td>\n",
       "      <td>0</td>\n",
       "    </tr>\n",
       "    <tr>\n",
       "      <th>24</th>\n",
       "      <td>u23535</td>\n",
       "      <td>0</td>\n",
       "    </tr>\n",
       "    <tr>\n",
       "      <th>25</th>\n",
       "      <td>u23301</td>\n",
       "      <td>0</td>\n",
       "    </tr>\n",
       "    <tr>\n",
       "      <th>26</th>\n",
       "      <td>u23259</td>\n",
       "      <td>1</td>\n",
       "    </tr>\n",
       "    <tr>\n",
       "      <th>27</th>\n",
       "      <td>u17314</td>\n",
       "      <td>1</td>\n",
       "    </tr>\n",
       "    <tr>\n",
       "      <th>28</th>\n",
       "      <td>u21292</td>\n",
       "      <td>0</td>\n",
       "    </tr>\n",
       "    <tr>\n",
       "      <th>29</th>\n",
       "      <td>u16410</td>\n",
       "      <td>0</td>\n",
       "    </tr>\n",
       "    <tr>\n",
       "      <th>...</th>\n",
       "      <td>...</td>\n",
       "      <td>...</td>\n",
       "    </tr>\n",
       "    <tr>\n",
       "      <th>2557</th>\n",
       "      <td>u15800</td>\n",
       "      <td>1</td>\n",
       "    </tr>\n",
       "    <tr>\n",
       "      <th>2558</th>\n",
       "      <td>u12696</td>\n",
       "      <td>0</td>\n",
       "    </tr>\n",
       "    <tr>\n",
       "      <th>2559</th>\n",
       "      <td>u19270</td>\n",
       "      <td>0</td>\n",
       "    </tr>\n",
       "    <tr>\n",
       "      <th>2560</th>\n",
       "      <td>u10745</td>\n",
       "      <td>0</td>\n",
       "    </tr>\n",
       "    <tr>\n",
       "      <th>2561</th>\n",
       "      <td>u20602</td>\n",
       "      <td>0</td>\n",
       "    </tr>\n",
       "    <tr>\n",
       "      <th>2562</th>\n",
       "      <td>u14342</td>\n",
       "      <td>0</td>\n",
       "    </tr>\n",
       "    <tr>\n",
       "      <th>2563</th>\n",
       "      <td>u16748</td>\n",
       "      <td>1</td>\n",
       "    </tr>\n",
       "    <tr>\n",
       "      <th>2564</th>\n",
       "      <td>u23926</td>\n",
       "      <td>0</td>\n",
       "    </tr>\n",
       "    <tr>\n",
       "      <th>2565</th>\n",
       "      <td>u14603</td>\n",
       "      <td>1</td>\n",
       "    </tr>\n",
       "    <tr>\n",
       "      <th>2566</th>\n",
       "      <td>u13757</td>\n",
       "      <td>0</td>\n",
       "    </tr>\n",
       "    <tr>\n",
       "      <th>2567</th>\n",
       "      <td>u15231</td>\n",
       "      <td>0</td>\n",
       "    </tr>\n",
       "    <tr>\n",
       "      <th>2568</th>\n",
       "      <td>u13330</td>\n",
       "      <td>0</td>\n",
       "    </tr>\n",
       "    <tr>\n",
       "      <th>2569</th>\n",
       "      <td>u18658</td>\n",
       "      <td>0</td>\n",
       "    </tr>\n",
       "    <tr>\n",
       "      <th>2570</th>\n",
       "      <td>u23423</td>\n",
       "      <td>0</td>\n",
       "    </tr>\n",
       "    <tr>\n",
       "      <th>2571</th>\n",
       "      <td>u19147</td>\n",
       "      <td>1</td>\n",
       "    </tr>\n",
       "    <tr>\n",
       "      <th>2572</th>\n",
       "      <td>u23448</td>\n",
       "      <td>0</td>\n",
       "    </tr>\n",
       "    <tr>\n",
       "      <th>2573</th>\n",
       "      <td>u22370</td>\n",
       "      <td>0</td>\n",
       "    </tr>\n",
       "    <tr>\n",
       "      <th>2574</th>\n",
       "      <td>u10475</td>\n",
       "      <td>0</td>\n",
       "    </tr>\n",
       "    <tr>\n",
       "      <th>2575</th>\n",
       "      <td>u16741</td>\n",
       "      <td>1</td>\n",
       "    </tr>\n",
       "    <tr>\n",
       "      <th>2576</th>\n",
       "      <td>u15132</td>\n",
       "      <td>0</td>\n",
       "    </tr>\n",
       "    <tr>\n",
       "      <th>2577</th>\n",
       "      <td>u24466</td>\n",
       "      <td>0</td>\n",
       "    </tr>\n",
       "    <tr>\n",
       "      <th>2578</th>\n",
       "      <td>u10936</td>\n",
       "      <td>0</td>\n",
       "    </tr>\n",
       "    <tr>\n",
       "      <th>2579</th>\n",
       "      <td>u15608</td>\n",
       "      <td>0</td>\n",
       "    </tr>\n",
       "    <tr>\n",
       "      <th>2580</th>\n",
       "      <td>u10574</td>\n",
       "      <td>0</td>\n",
       "    </tr>\n",
       "    <tr>\n",
       "      <th>2581</th>\n",
       "      <td>u10237</td>\n",
       "      <td>0</td>\n",
       "    </tr>\n",
       "    <tr>\n",
       "      <th>2582</th>\n",
       "      <td>u21378</td>\n",
       "      <td>0</td>\n",
       "    </tr>\n",
       "    <tr>\n",
       "      <th>2583</th>\n",
       "      <td>u15175</td>\n",
       "      <td>1</td>\n",
       "    </tr>\n",
       "    <tr>\n",
       "      <th>2584</th>\n",
       "      <td>u21614</td>\n",
       "      <td>0</td>\n",
       "    </tr>\n",
       "    <tr>\n",
       "      <th>2585</th>\n",
       "      <td>u11517</td>\n",
       "      <td>0</td>\n",
       "    </tr>\n",
       "    <tr>\n",
       "      <th>2586</th>\n",
       "      <td>u10231</td>\n",
       "      <td>0</td>\n",
       "    </tr>\n",
       "  </tbody>\n",
       "</table>\n",
       "<p>2587 rows × 2 columns</p>\n",
       "</div>"
      ],
      "text/plain": [
       "     session_id  gender_pred\n",
       "0        u12112            0\n",
       "1        u19725            1\n",
       "2        u11795            0\n",
       "3        u22639            0\n",
       "4        u18034            0\n",
       "...         ...          ...\n",
       "2582     u21378            0\n",
       "2583     u15175            1\n",
       "2584     u21614            0\n",
       "2585     u11517            0\n",
       "2586     u10231            0\n",
       "\n",
       "[2587 rows x 2 columns]"
      ]
     },
     "execution_count": 139,
     "metadata": {},
     "output_type": "execute_result"
    }
   ],
   "source": [
    "pd.DataFrame(zip(test[\"session_id\"], preds), columns= [\"session_id\", \"gender_pred\"])"
   ]
  },
  {
   "cell_type": "code",
   "execution_count": null,
   "metadata": {},
   "outputs": [],
   "source": []
  }
 ],
 "metadata": {
  "kernelspec": {
   "display_name": "Python 3",
   "language": "python",
   "name": "python3"
  },
  "language_info": {
   "codemirror_mode": {
    "name": "ipython",
    "version": 3
   },
   "file_extension": ".py",
   "mimetype": "text/x-python",
   "name": "python",
   "nbconvert_exporter": "python",
   "pygments_lexer": "ipython3",
   "version": "3.6.5"
  }
 },
 "nbformat": 4,
 "nbformat_minor": 2
}
